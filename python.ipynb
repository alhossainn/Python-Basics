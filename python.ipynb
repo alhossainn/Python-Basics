{
  "nbformat": 4,
  "nbformat_minor": 0,
  "metadata": {
    "colab": {
      "provenance": [],
      "include_colab_link": true
    },
    "kernelspec": {
      "name": "python3",
      "display_name": "Python 3"
    },
    "language_info": {
      "name": "python"
    }
  },
  "cells": [
    {
      "cell_type": "markdown",
      "metadata": {
        "id": "view-in-github",
        "colab_type": "text"
      },
      "source": [
        "<a href=\"https://colab.research.google.com/github/alhossainn/Python-Basics/blob/main/python.ipynb\" target=\"_parent\"><img src=\"https://colab.research.google.com/assets/colab-badge.svg\" alt=\"Open In Colab\"/></a>"
      ]
    },
    {
      "cell_type": "markdown",
      "source": [
        "# **Python**\n",
        "**List of Topics**\n",
        "\n",
        "---\n",
        "\n",
        "\n",
        "1. Python Variable\n",
        "2. Python Type Conversion\n",
        "3. Python Input Output\n",
        "4. Arithmetic Operators in Python\n",
        "5. Comparison Operators\n",
        "6. Logical Operators\n",
        "7. Python if…else Statement\n",
        "8. Python if…elif…else Statement\n",
        "9. Python Nested if Statements\n",
        "10. Python for Loop\n",
        "11. Python Nested for Loop\n",
        "12. Python Mathematics\n",
        "13. Python List\n",
        "14. Python Tuple\n",
        "15. List Tuple Conversion\n",
        "16. Python String\n",
        "17. Python Set\n",
        "18. Python Dictionary"
      ],
      "metadata": {
        "id": "oOQ2sQH1NZVR"
      }
    },
    {
      "cell_type": "markdown",
      "source": [
        "**Python Variables**"
      ],
      "metadata": {
        "id": "gAnAcJwKNk_c"
      }
    },
    {
      "cell_type": "code",
      "execution_count": null,
      "metadata": {
        "colab": {
          "base_uri": "https://localhost:8080/"
        },
        "id": "rPYAII42L_Qe",
        "outputId": "bddcbfd3-f7ba-4070-b38d-9fc5c8932eef"
      },
      "outputs": [
        {
          "output_type": "stream",
          "name": "stdout",
          "text": [
            "Name: John\n",
            "Age: 30\n",
            "Height: 6.1\n",
            "Is Student: False\n"
          ]
        }
      ],
      "source": [
        "# Variable Declaration and Assignment\n",
        "name = \"John\"\n",
        "age = 30\n",
        "height = 6.1\n",
        "is_student = False\n",
        "\n",
        "# Outputting variable values\n",
        "print(\"Name:\", name)\n",
        "print(\"Age:\", age)\n",
        "print(\"Height:\", height)\n",
        "print(\"Is Student:\", is_student)"
      ]
    },
    {
      "cell_type": "code",
      "source": [
        "# Variable Reassignment\n",
        "name = \"Alice\"\n",
        "age = 25\n",
        "\n",
        "# Updated Output\n",
        "print(\"Updated Name:\", name)\n",
        "print(\"\\nUpdated Age:\", age)"
      ],
      "metadata": {
        "colab": {
          "base_uri": "https://localhost:8080/"
        },
        "id": "KvSSTcTtSQ3t",
        "outputId": "644788c6-6e70-455e-f786-ce43c635276c"
      },
      "execution_count": null,
      "outputs": [
        {
          "output_type": "stream",
          "name": "stdout",
          "text": [
            "Updated Name: Alice\n",
            "\n",
            "Updated Age: 25\n"
          ]
        }
      ]
    },
    {
      "cell_type": "code",
      "source": [
        "# Variable Types\n",
        "print(\"Variable Types:\")\n",
        "print(\"Type of name:\", type(name))\n",
        "print(\"Type of age:\", type(age))\n",
        "print(\"Type of height:\", type(height))\n",
        "print(\"Type of is_student:\", type(is_student))"
      ],
      "metadata": {
        "colab": {
          "base_uri": "https://localhost:8080/"
        },
        "id": "PHC9wBYTNTgW",
        "outputId": "17026658-1912-4a67-9420-667e895ff444"
      },
      "execution_count": null,
      "outputs": [
        {
          "output_type": "stream",
          "name": "stdout",
          "text": [
            "Variable Types:\n",
            "Type of name: <class 'str'>\n",
            "Type of age: <class 'int'>\n",
            "Type of height: <class 'float'>\n",
            "Type of is_student: <class 'bool'>\n"
          ]
        }
      ]
    },
    {
      "cell_type": "code",
      "source": [
        "# Variable Operations\n",
        "a = 10\n",
        "b = 5\n",
        "sum_result = a + b\n",
        "difference_result = a - b\n",
        "product_result = a * b\n",
        "division_result = a / b\n",
        "\n",
        "# Outputting Results\n",
        "print(\"Operations:\")\n",
        "print(\"Sum:\", sum_result)\n",
        "print(\"Difference:\", difference_result)\n",
        "print(\"Product:\", product_result)\n",
        "print(\"Division:\", division_result)"
      ],
      "metadata": {
        "colab": {
          "base_uri": "https://localhost:8080/"
        },
        "id": "6qoQwazqNV2x",
        "outputId": "ae7ad0d9-ed2d-495a-a294-4d498922471e"
      },
      "execution_count": null,
      "outputs": [
        {
          "output_type": "stream",
          "name": "stdout",
          "text": [
            "Operations:\n",
            "Sum: 15\n",
            "Difference: 5\n",
            "Product: 50\n",
            "Division: 2.0\n"
          ]
        }
      ]
    },
    {
      "cell_type": "markdown",
      "source": [
        "**Python Type Conversion**"
      ],
      "metadata": {
        "id": "N9jvAaa7Ns1V"
      }
    },
    {
      "cell_type": "code",
      "source": [
        "num_string = '12'\n",
        "num_integer = 23\n",
        "\n",
        "print(\"Data type of num_string before Type Casting:\",type(num_string))\n",
        "\n",
        "num_string = int(num_string)\n",
        "\n",
        "print(\"Data type of num_string after Type Casting:\",type(num_string))\n",
        "\n",
        "num_sum = num_integer + num_string\n",
        "\n",
        "print(\"Sum:\",num_sum)\n",
        "print(\"Data type of num_sum:\",type(num_sum))"
      ],
      "metadata": {
        "colab": {
          "base_uri": "https://localhost:8080/"
        },
        "id": "-o9PzSRyN28D",
        "outputId": "ad3d5a1d-e7c8-4825-90c2-5033db01e894"
      },
      "execution_count": null,
      "outputs": [
        {
          "output_type": "stream",
          "name": "stdout",
          "text": [
            "Data type of num_string before Type Casting: <class 'str'>\n",
            "Data type of num_string after Type Casting: <class 'int'>\n",
            "Sum: 35\n",
            "Data type of num_sum: <class 'int'>\n"
          ]
        }
      ]
    },
    {
      "cell_type": "code",
      "source": [
        "num1 = int(2.3)\n",
        "print(num1)\n",
        "\n",
        "num2 = int(-2.8)\n",
        "print(num2)\n",
        "\n",
        "num3 = float(5)\n",
        "print(num3)\n",
        "\n",
        "num4 = complex('3+5j')\n",
        "print(num4)"
      ],
      "metadata": {
        "colab": {
          "base_uri": "https://localhost:8080/"
        },
        "id": "YF_-cmPCV4Ux",
        "outputId": "79717085-b84e-4afb-c9c5-700f21dc49e4"
      },
      "execution_count": null,
      "outputs": [
        {
          "output_type": "stream",
          "name": "stdout",
          "text": [
            "2\n",
            "-2\n",
            "5.0\n",
            "(3+5j)\n"
          ]
        }
      ]
    },
    {
      "cell_type": "markdown",
      "source": [
        "**Python Input and Output**"
      ],
      "metadata": {
        "id": "dHEWwl9QN86r"
      }
    },
    {
      "cell_type": "code",
      "source": [
        "# Input\n",
        "name = input(\"Enter your name: \")\n",
        "age = int(input(\"Enter your age: \"))\n",
        "\n",
        "year_of_birth = 2024 - age\n",
        "\n",
        "# Output\n",
        "print(\"Hello, \" + name + \"!\")\n",
        "print(\"You are\", age, \"years old.\")\n",
        "print(\"You were born in the year\", year_of_birth)"
      ],
      "metadata": {
        "colab": {
          "base_uri": "https://localhost:8080/"
        },
        "id": "TYaFRCgzOeXb",
        "outputId": "63a84ba4-3859-4c62-8709-be7521c5ead2"
      },
      "execution_count": null,
      "outputs": [
        {
          "output_type": "stream",
          "name": "stdout",
          "text": [
            "Enter your name: Hossain\n",
            "Enter your age: 23\n",
            "Hello, Hossain!\n",
            "You are 23 years old.\n",
            "You were born in the year 2001\n"
          ]
        }
      ]
    },
    {
      "cell_type": "markdown",
      "source": [
        "**Arithmetic Operators in Python**"
      ],
      "metadata": {
        "id": "CtK35lFiOmqQ"
      }
    },
    {
      "cell_type": "code",
      "source": [
        "a = 7\n",
        "b = 2\n",
        "\n",
        "# addition\n",
        "print ('Sum: ', a + b)\n",
        "\n",
        "# subtraction\n",
        "print ('Subtraction: ', a - b)\n",
        "\n",
        "# multiplication\n",
        "print ('Multiplication: ', a * b)\n",
        "\n",
        "# division\n",
        "print ('Division: ', a / b)\n",
        "\n",
        "# floor division\n",
        "print ('Floor Division: ', a // b)\n",
        "\n",
        "# modulo\n",
        "print ('Modulo: ', a % b)\n",
        "\n",
        "# a to the power b\n",
        "print ('Power: ', a ** b)\n",
        "\n",
        "# assignment operator\n",
        "a += b      # a = a + b\n",
        "print (a)"
      ],
      "metadata": {
        "colab": {
          "base_uri": "https://localhost:8080/"
        },
        "id": "TDnyIgi1PBX6",
        "outputId": "6132fdbc-f7da-460c-c5a5-3f4f51a1dadd"
      },
      "execution_count": null,
      "outputs": [
        {
          "output_type": "stream",
          "name": "stdout",
          "text": [
            "Sum:  9\n",
            "Subtraction:  5\n",
            "Multiplication:  14\n",
            "Division:  3.5\n",
            "Floor Division:  3\n",
            "Modulo:  1\n",
            "Power:  49\n",
            "9\n"
          ]
        }
      ]
    },
    {
      "cell_type": "markdown",
      "source": [
        "**Comparison Operators**"
      ],
      "metadata": {
        "id": "6Mn6bkr3PF7B"
      }
    },
    {
      "cell_type": "code",
      "source": [
        "a = 5\n",
        "b = 2\n",
        "\n",
        "# equal to operator\n",
        "print('(a == b)--> ', a == b)\n",
        "\n",
        "# not equal to operator\n",
        "print('(a != b)--> ', a != b)\n",
        "\n",
        "# greater than operator\n",
        "print('(a > b)--> ', a > b)\n",
        "\n",
        "# less than operator\n",
        "print('(a < b)--> ', a < b)\n",
        "\n",
        "# greater than or equal to operator\n",
        "print('(a >= b)--> ', a >= b)\n",
        "\n",
        "# less than or equal to operator\n",
        "print('(a <= b)--> ', a <= b)"
      ],
      "metadata": {
        "colab": {
          "base_uri": "https://localhost:8080/"
        },
        "id": "aPIglsPjPFc2",
        "outputId": "90289c0c-aace-4219-bfc2-888f5cb6d09d"
      },
      "execution_count": null,
      "outputs": [
        {
          "output_type": "stream",
          "name": "stdout",
          "text": [
            "(a == b)-->  False\n",
            "(a != b)-->  True\n",
            "(a > b)-->  True\n",
            "(a < b)-->  False\n",
            "(a >= b)-->  True\n",
            "(a <= b)-->  False\n"
          ]
        }
      ]
    },
    {
      "cell_type": "markdown",
      "source": [
        "**Logical Operators**"
      ],
      "metadata": {
        "id": "X4nLSdEFP4vB"
      }
    },
    {
      "cell_type": "code",
      "source": [
        "# logical AND\n",
        "print(True and True)\n",
        "print(True and False)\n",
        "\n",
        "# logical OR\n",
        "print(True or False)\n",
        "\n",
        "# logical NOT\n",
        "print(not True)"
      ],
      "metadata": {
        "colab": {
          "base_uri": "https://localhost:8080/"
        },
        "id": "srxdLpQJQScw",
        "outputId": "1a91c209-902d-42f9-db44-d7576618e308"
      },
      "execution_count": null,
      "outputs": [
        {
          "output_type": "stream",
          "name": "stdout",
          "text": [
            "True\n",
            "False\n",
            "True\n",
            "False\n"
          ]
        }
      ]
    },
    {
      "cell_type": "markdown",
      "source": [
        "**Python if…else Statement**"
      ],
      "metadata": {
        "id": "N2xP0onVQduW"
      }
    },
    {
      "cell_type": "code",
      "source": [
        "number = 10\n",
        "\n",
        "if number > 0:\n",
        "    print('Positive number')\n",
        "\n",
        "else:\n",
        "    print('Negative number')\n",
        "\n",
        "print('This statement always executes')"
      ],
      "metadata": {
        "colab": {
          "base_uri": "https://localhost:8080/"
        },
        "id": "Jn39DpzJRHgy",
        "outputId": "f854bbac-658e-429a-a7b4-05ae0c4bfd6a"
      },
      "execution_count": null,
      "outputs": [
        {
          "output_type": "stream",
          "name": "stdout",
          "text": [
            "Positive number\n",
            "This statement always executes\n"
          ]
        }
      ]
    },
    {
      "cell_type": "markdown",
      "source": [
        "**Python if…elif…else Statement**"
      ],
      "metadata": {
        "id": "7F99GZReRKLQ"
      }
    },
    {
      "cell_type": "code",
      "source": [
        "number = 0\n",
        "\n",
        "if number > 0:\n",
        "    print('Positive number')\n",
        "\n",
        "elif number <0:\n",
        "    print('Negative number')\n",
        "\n",
        "else:\n",
        "    print('Zero')\n",
        "\n",
        "print('This statement is always executed')"
      ],
      "metadata": {
        "colab": {
          "base_uri": "https://localhost:8080/"
        },
        "id": "GHqE0kqqRNep",
        "outputId": "dd019fd9-689e-45a8-9b54-d75c51b9cb6e"
      },
      "execution_count": null,
      "outputs": [
        {
          "output_type": "stream",
          "name": "stdout",
          "text": [
            "Zero\n",
            "This statement is always executed\n"
          ]
        }
      ]
    },
    {
      "cell_type": "markdown",
      "source": [
        "**Python Nested if Statements**"
      ],
      "metadata": {
        "id": "nENeaAzORR0H"
      }
    },
    {
      "cell_type": "code",
      "source": [
        "number = 5\n",
        "\n",
        "# outer if statement\n",
        "if number >= 0:\n",
        "    # inner if statement\n",
        "    if number == 0:\n",
        "      print('Number is 0')\n",
        "\n",
        "    # inner else statement\n",
        "    else:\n",
        "        print('Number is positive')\n",
        "\n",
        "# outer else statement\n",
        "else:\n",
        "    print('Number is negative')"
      ],
      "metadata": {
        "colab": {
          "base_uri": "https://localhost:8080/"
        },
        "id": "TSQUcrdlRUnq",
        "outputId": "015ca751-1e9c-4446-ee37-60daa893ddd3"
      },
      "execution_count": null,
      "outputs": [
        {
          "output_type": "stream",
          "name": "stdout",
          "text": [
            "Number is positive\n"
          ]
        }
      ]
    },
    {
      "cell_type": "markdown",
      "source": [
        "**Python for Loop**"
      ],
      "metadata": {
        "id": "V58XZIxjRYv_"
      }
    },
    {
      "cell_type": "code",
      "source": [
        "# iterate from i = 0 to i = 3\n",
        "for i in range(4):\n",
        "    print(i)"
      ],
      "metadata": {
        "colab": {
          "base_uri": "https://localhost:8080/"
        },
        "id": "gB6UsaO4RxZ5",
        "outputId": "5059c688-36ff-4f90-fe8e-ac28c8141630"
      },
      "execution_count": null,
      "outputs": [
        {
          "output_type": "stream",
          "name": "stdout",
          "text": [
            "0\n",
            "1\n",
            "2\n",
            "3\n"
          ]
        }
      ]
    },
    {
      "cell_type": "code",
      "source": [
        "# Define a list of numbers\n",
        "numbers = [1, 2, 3, 4, 5]\n",
        "\n",
        "for num in numbers:\n",
        "    # Print each number multiplied by 2\n",
        "    print(num * 2)"
      ],
      "metadata": {
        "colab": {
          "base_uri": "https://localhost:8080/"
        },
        "id": "JAgUXeCQR4B8",
        "outputId": "6d4d4477-fd78-4211-f328-ca1396c3c7d5"
      },
      "execution_count": null,
      "outputs": [
        {
          "output_type": "stream",
          "name": "stdout",
          "text": [
            "2\n",
            "4\n",
            "6\n",
            "8\n",
            "10\n"
          ]
        }
      ]
    },
    {
      "cell_type": "code",
      "source": [
        "languages = ['Swift', 'Python', 'Go']\n",
        "\n",
        "for i in languages:\n",
        "    print(i)"
      ],
      "metadata": {
        "colab": {
          "base_uri": "https://localhost:8080/"
        },
        "id": "OdGX7BuzTKLI",
        "outputId": "947c16b5-690a-4c25-811d-939d4497b3e5"
      },
      "execution_count": null,
      "outputs": [
        {
          "output_type": "stream",
          "name": "stdout",
          "text": [
            "Swift\n",
            "Python\n",
            "Go\n"
          ]
        }
      ]
    },
    {
      "cell_type": "code",
      "source": [
        "for i in range(5):\n",
        "    if i == 3:\n",
        "        break\n",
        "    print(i)"
      ],
      "metadata": {
        "colab": {
          "base_uri": "https://localhost:8080/"
        },
        "id": "8BnNHT5oTOjM",
        "outputId": "18745e60-5178-4504-8994-521b4096bcda"
      },
      "execution_count": null,
      "outputs": [
        {
          "output_type": "stream",
          "name": "stdout",
          "text": [
            "0\n",
            "1\n",
            "2\n"
          ]
        }
      ]
    },
    {
      "cell_type": "code",
      "source": [
        "for i in range(5):\n",
        "    if i == 3:\n",
        "        continue\n",
        "    print(i)"
      ],
      "metadata": {
        "colab": {
          "base_uri": "https://localhost:8080/"
        },
        "id": "W79cqfbWTWgu",
        "outputId": "bf3f1438-e677-4fe8-aaa2-854c305d2487"
      },
      "execution_count": null,
      "outputs": [
        {
          "output_type": "stream",
          "name": "stdout",
          "text": [
            "0\n",
            "1\n",
            "2\n",
            "4\n"
          ]
        }
      ]
    },
    {
      "cell_type": "markdown",
      "source": [
        "**Python Nested for Loop**"
      ],
      "metadata": {
        "id": "N20AEfyKeuCv"
      }
    },
    {
      "cell_type": "code",
      "source": [
        "# Define a list of fruits\n",
        "fruits = [\"apple\", \"banana\", \"cherry\"]\n",
        "\n",
        "# Define a list of colors\n",
        "colors = [\"red\", \"yellow\", \"black\"]\n",
        "\n",
        "# Nested loop to combine each fruit with each color\n",
        "for fruit in fruits:\n",
        "    for color in colors:\n",
        "        print(fruit, color)"
      ],
      "metadata": {
        "colab": {
          "base_uri": "https://localhost:8080/"
        },
        "id": "5sflwW1HetkA",
        "outputId": "e123e12a-827c-4b30-cc12-cc1d4c977d23"
      },
      "execution_count": null,
      "outputs": [
        {
          "output_type": "stream",
          "name": "stdout",
          "text": [
            "apple red\n",
            "apple yellow\n",
            "apple black\n",
            "banana red\n",
            "banana yellow\n",
            "banana black\n",
            "cherry red\n",
            "cherry yellow\n",
            "cherry black\n"
          ]
        }
      ]
    },
    {
      "cell_type": "markdown",
      "source": [
        "**Python Mathematics**"
      ],
      "metadata": {
        "id": "LUWemH1YTbN3"
      }
    },
    {
      "cell_type": "code",
      "source": [
        "import math\n",
        "\n",
        "# Trigonometric functions\n",
        "print(\"\\nTrigonometric Functions:\")\n",
        "print(\"Sine of 30 degrees:\", math.sin(math.radians(30)))\n",
        "print(\"Cosine of 30 degrees:\", math.cos(math.radians(30)))\n",
        "print(\"Tangent of 30 degrees:\", math.tan(math.radians(30)))\n",
        "\n",
        "# Logarithmic and exponential functions\n",
        "print(\"\\nLogarithmic and Exponential Functions:\")\n",
        "print(\"Natural Logarithm (base e) of 2:\", math.log(2))\n",
        "print(\"Logarithm base 10 of 100:\", math.log10(100))\n",
        "print(\"Exponential of 2:\", math.exp(2))\n",
        "\n",
        "# Constants\n",
        "print(\"\\nConstants:\")\n",
        "print(\"Value of pi:\", math.pi)\n",
        "print(\"Value of e:\", math.e)"
      ],
      "metadata": {
        "colab": {
          "base_uri": "https://localhost:8080/"
        },
        "id": "tFA2xoIDWQTM",
        "outputId": "7c5381bf-1e2d-4e3a-9fb0-f02a7db76748"
      },
      "execution_count": null,
      "outputs": [
        {
          "output_type": "stream",
          "name": "stdout",
          "text": [
            "\n",
            "Trigonometric Functions:\n",
            "Sine of 30 degrees: 0.49999999999999994\n",
            "Cosine of 30 degrees: 0.8660254037844387\n",
            "Tangent of 30 degrees: 0.5773502691896257\n",
            "\n",
            "Logarithmic and Exponential Functions:\n",
            "Natural Logarithm (base e) of 2: 0.6931471805599453\n",
            "Logarithm base 10 of 100: 2.0\n",
            "Exponential of 2: 7.38905609893065\n",
            "\n",
            "Constants:\n",
            "Value of pi: 3.141592653589793\n",
            "Value of e: 2.718281828459045\n"
          ]
        }
      ]
    },
    {
      "cell_type": "markdown",
      "source": [
        "**Python List**"
      ],
      "metadata": {
        "id": "EEpiF5F1WSew"
      }
    },
    {
      "cell_type": "code",
      "source": [
        "colors = ['Red', 'Black', 'Green']\n",
        "\n",
        "# Print the original list\n",
        "print(\"Original list of colors:\", colors)"
      ],
      "metadata": {
        "colab": {
          "base_uri": "https://localhost:8080/"
        },
        "id": "pxdTFYPFXQQi",
        "outputId": "603f0aa4-9657-40d5-cab1-ddbdc6528948"
      },
      "execution_count": null,
      "outputs": [
        {
          "output_type": "stream",
          "name": "stdout",
          "text": [
            "Original list of colors: ['Red', 'Black', 'Green']\n"
          ]
        }
      ]
    },
    {
      "cell_type": "code",
      "source": [
        "# Accessing elements in the list\n",
        "print(\"First color:\", colors[0])\n",
        "print(\"Last color:\", colors[2])\n",
        "print(\"Last color:\", colors[-1])\n",
        "print(\"Sliced colors:\", colors[1:])"
      ],
      "metadata": {
        "colab": {
          "base_uri": "https://localhost:8080/"
        },
        "id": "B2hue9VCXVZl",
        "outputId": "a0354c8d-46df-482c-8f8c-628608440090"
      },
      "execution_count": null,
      "outputs": [
        {
          "output_type": "stream",
          "name": "stdout",
          "text": [
            "First color: Red\n",
            "Last color: Green\n",
            "Sliced colors: ['Black', 'Green']\n"
          ]
        }
      ]
    },
    {
      "cell_type": "code",
      "source": [
        "colors[0] = 'Blue'\n",
        "print(\"Modified list after changing the first color to Blue:\", colors)"
      ],
      "metadata": {
        "colab": {
          "base_uri": "https://localhost:8080/"
        },
        "id": "_z5FV9gHXcB7",
        "outputId": "b4ae02d0-7c0c-447a-cf4b-a84bd7a12dbc"
      },
      "execution_count": null,
      "outputs": [
        {
          "output_type": "stream",
          "name": "stdout",
          "text": [
            "Modified list after changing the first color to Blue: ['Blue', 'Black', 'Green']\n"
          ]
        }
      ]
    },
    {
      "cell_type": "code",
      "source": [
        "colors.append('Yellow')\n",
        "print(\"List after appending Yellow:\", colors)"
      ],
      "metadata": {
        "colab": {
          "base_uri": "https://localhost:8080/"
        },
        "id": "iNECTVWAXytH",
        "outputId": "6221eb04-b4ea-44e0-96e1-8be20add7c7a"
      },
      "execution_count": null,
      "outputs": [
        {
          "output_type": "stream",
          "name": "stdout",
          "text": [
            "List after appending Yellow: ['Blue', 'Black', 'Green', 'Yellow']\n"
          ]
        }
      ]
    },
    {
      "cell_type": "code",
      "source": [
        "colors.insert(1, 'White')\n",
        "print(\"List after inserting White at index 1:\", colors)"
      ],
      "metadata": {
        "colab": {
          "base_uri": "https://localhost:8080/"
        },
        "id": "RxS6zqfQX18W",
        "outputId": "20b880f8-36f6-4641-eeac-a1fbd193aacb"
      },
      "execution_count": null,
      "outputs": [
        {
          "output_type": "stream",
          "name": "stdout",
          "text": [
            "List after inserting White at index 1: ['Blue', 'White', 'Black', 'Green', 'Yellow']\n"
          ]
        }
      ]
    },
    {
      "cell_type": "code",
      "source": [
        "colors.remove('Black')\n",
        "print(\"List after removing Black:\", colors)"
      ],
      "metadata": {
        "colab": {
          "base_uri": "https://localhost:8080/"
        },
        "id": "nWLSIu2wX5za",
        "outputId": "0a6ba2e5-c0b9-4dfb-9101-ab5dc8b77a8c"
      },
      "execution_count": null,
      "outputs": [
        {
          "output_type": "stream",
          "name": "stdout",
          "text": [
            "List after removing Black: ['Blue', 'White', 'Green', 'Yellow']\n"
          ]
        }
      ]
    },
    {
      "cell_type": "code",
      "source": [
        "# List operations\n",
        "print(\"Number of colors in the list:\", len(colors))\n",
        "print(\"Reversed list of colors:\", list(reversed(colors)))"
      ],
      "metadata": {
        "colab": {
          "base_uri": "https://localhost:8080/"
        },
        "id": "d_vK3Y0BX9mt",
        "outputId": "edef6af0-f32c-4769-b9c6-6303fa76bbd7"
      },
      "execution_count": null,
      "outputs": [
        {
          "output_type": "stream",
          "name": "stdout",
          "text": [
            "Number of colors in the list: 4\n",
            "Reversed list of colors: ['Yellow', 'Green', 'White', 'Blue']\n"
          ]
        }
      ]
    },
    {
      "cell_type": "code",
      "source": [
        "my_list = [2, 1, 4, 5, 3]\n",
        "print(\"Sorted list of colors:\", sorted(my_list))"
      ],
      "metadata": {
        "colab": {
          "base_uri": "https://localhost:8080/"
        },
        "id": "Av7JT-OjYGYP",
        "outputId": "a6989fe1-ff0e-4422-959c-6ae264b5e7e9"
      },
      "execution_count": null,
      "outputs": [
        {
          "output_type": "stream",
          "name": "stdout",
          "text": [
            "Sorted list of colors: [1, 2, 3, 4, 5]\n"
          ]
        }
      ]
    },
    {
      "cell_type": "code",
      "source": [
        "# Checking if an element is in the list\n",
        "print(\"Is 'Green' present in the list?\", 'Green' in colors)"
      ],
      "metadata": {
        "colab": {
          "base_uri": "https://localhost:8080/"
        },
        "id": "2CiPe_U6YFdX",
        "outputId": "b60f5650-a44f-44d7-8e84-d4e6ca606bce"
      },
      "execution_count": null,
      "outputs": [
        {
          "output_type": "stream",
          "name": "stdout",
          "text": [
            "Is 'Green' present in the list? True\n"
          ]
        }
      ]
    },
    {
      "cell_type": "code",
      "source": [
        "# Iterating over the list\n",
        "print(\"Iterating over the list of colors:\")\n",
        "for color in colors:\n",
        "    print(color)"
      ],
      "metadata": {
        "colab": {
          "base_uri": "https://localhost:8080/"
        },
        "id": "fixFU_rHYXlq",
        "outputId": "f7ca2691-6e3a-4d55-b7ba-2f503013ef9a"
      },
      "execution_count": null,
      "outputs": [
        {
          "output_type": "stream",
          "name": "stdout",
          "text": [
            "Iterating over the list of colors:\n",
            "Blue\n",
            "White\n",
            "Green\n",
            "Yellow\n"
          ]
        }
      ]
    },
    {
      "cell_type": "markdown",
      "source": [
        "**Python Tuple**"
      ],
      "metadata": {
        "id": "FHo1hYzBY8vb"
      }
    },
    {
      "cell_type": "code",
      "source": [
        "# Define a tuple\n",
        "my_tuple = (1, 2, 3, 'a', 'b', 'c')\n",
        "\n",
        "# Accessing elements of a tuple\n",
        "print(\"First element:\", my_tuple[0])\n",
        "print(\"Last element:\", my_tuple[-1])\n",
        "print(\"Slicing tuple:\", my_tuple[2:5])"
      ],
      "metadata": {
        "colab": {
          "base_uri": "https://localhost:8080/"
        },
        "id": "WLgQB5GFY18s",
        "outputId": "325288eb-272b-48f4-d113-93b95d132c61"
      },
      "execution_count": null,
      "outputs": [
        {
          "output_type": "stream",
          "name": "stdout",
          "text": [
            "First element: 1\n",
            "Last element: c\n",
            "Slicing tuple: (3, 'a', 'b')\n"
          ]
        }
      ]
    },
    {
      "cell_type": "code",
      "source": [
        "# Length of a tuple\n",
        "print(\"Length of tuple:\", len(my_tuple))"
      ],
      "metadata": {
        "colab": {
          "base_uri": "https://localhost:8080/"
        },
        "id": "QRQA3gaiZD2v",
        "outputId": "03b918fd-94be-4d1c-b4b5-4bd440bb3baa"
      },
      "execution_count": null,
      "outputs": [
        {
          "output_type": "stream",
          "name": "stdout",
          "text": [
            "Length of tuple: 6\n"
          ]
        }
      ]
    },
    {
      "cell_type": "code",
      "source": [
        "# Check if an item exists in a tuple\n",
        "print(\"Is 'a' in the tuple?\", 'a' in my_tuple)"
      ],
      "metadata": {
        "colab": {
          "base_uri": "https://localhost:8080/"
        },
        "id": "_JK0UIM7ZJMO",
        "outputId": "f2fc3673-0cc7-41f0-e779-47e2c29550eb"
      },
      "execution_count": null,
      "outputs": [
        {
          "output_type": "stream",
          "name": "stdout",
          "text": [
            "Is 'a' in the tuple? True\n"
          ]
        }
      ]
    },
    {
      "cell_type": "code",
      "source": [
        "# Iterate through a tuple\n",
        "print(\"Iterating through the tuple:\")\n",
        "for item in my_tuple:\n",
        "    print(item)"
      ],
      "metadata": {
        "colab": {
          "base_uri": "https://localhost:8080/"
        },
        "id": "jNJA65W3ZM-V",
        "outputId": "cba47ee6-5557-4e8a-9178-e4f01bda697e"
      },
      "execution_count": null,
      "outputs": [
        {
          "output_type": "stream",
          "name": "stdout",
          "text": [
            "Iterating through the tuple:\n",
            "1\n",
            "2\n",
            "3\n",
            "a\n",
            "b\n",
            "c\n"
          ]
        }
      ]
    },
    {
      "cell_type": "markdown",
      "source": [
        "**List Tuple Conversion**"
      ],
      "metadata": {
        "id": "G9T-16kfZSPS"
      }
    },
    {
      "cell_type": "code",
      "source": [
        "fruits = ('apple','banana','orange')"
      ],
      "metadata": {
        "id": "BnRU957TZg4_"
      },
      "execution_count": null,
      "outputs": []
    },
    {
      "cell_type": "code",
      "source": [
        "# Convert a tuple to a list\n",
        "tuple_as_list = list(fruits)\n",
        "print(\"Tuple converted to list:\", tuple_as_list)"
      ],
      "metadata": {
        "colab": {
          "base_uri": "https://localhost:8080/"
        },
        "id": "XEYi2wx3ZRph",
        "outputId": "c1b56c58-e95e-406e-8739-3c541e876ebe"
      },
      "execution_count": null,
      "outputs": [
        {
          "output_type": "stream",
          "name": "stdout",
          "text": [
            "Tuple converted to list: ['apple', 'banana', 'orange']\n"
          ]
        }
      ]
    },
    {
      "cell_type": "code",
      "source": [
        "# Convert a list to a tuple\n",
        "list_as_tuple = tuple(tuple_as_list)\n",
        "print(\"List converted to tuple:\", list_as_tuple)"
      ],
      "metadata": {
        "colab": {
          "base_uri": "https://localhost:8080/"
        },
        "id": "wCxXiz1bZetx",
        "outputId": "3bca1354-ae6e-4d89-f914-7059a6a9ea32"
      },
      "execution_count": null,
      "outputs": [
        {
          "output_type": "stream",
          "name": "stdout",
          "text": [
            "List converted to tuple: ('apple', 'banana', 'orange')\n"
          ]
        }
      ]
    },
    {
      "cell_type": "markdown",
      "source": [
        "**Python String**"
      ],
      "metadata": {
        "id": "j215hbO5Z3Dm"
      }
    },
    {
      "cell_type": "code",
      "source": [
        "# join two string\n",
        "greet = \"Hello \"\n",
        "name = \"World\"\n",
        "\n",
        "# using + operator\n",
        "result = greet + name\n",
        "print(result)"
      ],
      "metadata": {
        "colab": {
          "base_uri": "https://localhost:8080/"
        },
        "id": "qC4M3aEcZ5mu",
        "outputId": "f71e4924-748e-45b7-8905-5c75e4f13255"
      },
      "execution_count": null,
      "outputs": [
        {
          "output_type": "stream",
          "name": "stdout",
          "text": [
            "Hello World\n"
          ]
        }
      ]
    },
    {
      "cell_type": "code",
      "source": [
        "greet = 'Hello'\n",
        "\n",
        "# iterating through greet string\n",
        "for letter in greet:\n",
        "    print(letter)"
      ],
      "metadata": {
        "colab": {
          "base_uri": "https://localhost:8080/"
        },
        "id": "RHBnHrZvaDom",
        "outputId": "b4660575-4b55-4220-f503-31c08e3cf814"
      },
      "execution_count": null,
      "outputs": [
        {
          "output_type": "stream",
          "name": "stdout",
          "text": [
            "H\n",
            "e\n",
            "l\n",
            "l\n",
            "o\n"
          ]
        }
      ]
    },
    {
      "cell_type": "code",
      "source": [
        "greet = 'Hello'\n",
        "\n",
        "# count length of greet string\n",
        "print(len(greet))"
      ],
      "metadata": {
        "colab": {
          "base_uri": "https://localhost:8080/"
        },
        "id": "gdNALPF7aIuG",
        "outputId": "e14d89d4-13bf-4bbc-cbce-ee979da559bf"
      },
      "execution_count": null,
      "outputs": [
        {
          "output_type": "stream",
          "name": "stdout",
          "text": [
            "5\n"
          ]
        }
      ]
    },
    {
      "cell_type": "markdown",
      "source": [
        "**Python Set**"
      ],
      "metadata": {
        "id": "2mLAa59PaMlz"
      }
    },
    {
      "cell_type": "code",
      "source": [
        "# Creating a set\n",
        "toys = {'car', 'plane', 'animal'}\n",
        "print(\"Initial set:\", toys)"
      ],
      "metadata": {
        "colab": {
          "base_uri": "https://localhost:8080/"
        },
        "id": "crHBs9lmaiSN",
        "outputId": "1300fe11-cfac-4e23-cf6a-d912e87a9e5f"
      },
      "execution_count": null,
      "outputs": [
        {
          "output_type": "stream",
          "name": "stdout",
          "text": [
            "Initial set: {'plane', 'car', 'animal'}\n"
          ]
        }
      ]
    },
    {
      "cell_type": "code",
      "source": [
        "# Adding elements to a set\n",
        "toys.add('doll')\n",
        "print(\"After adding 'doll':\", toys)"
      ],
      "metadata": {
        "colab": {
          "base_uri": "https://localhost:8080/"
        },
        "id": "WOzYTHTHalRg",
        "outputId": "7ad2f68b-cc8d-44fd-cef1-db3c1f478fb1"
      },
      "execution_count": null,
      "outputs": [
        {
          "output_type": "stream",
          "name": "stdout",
          "text": [
            "After adding 'doll': {'doll', 'plane', 'car', 'animal'}\n"
          ]
        }
      ]
    },
    {
      "cell_type": "code",
      "source": [
        "# Removing elements from a set\n",
        "toys.remove('animal')\n",
        "print(\"After removing 'plane':\", toys)"
      ],
      "metadata": {
        "colab": {
          "base_uri": "https://localhost:8080/"
        },
        "id": "EMRYEqgbaoGb",
        "outputId": "e33b45ae-5baf-4162-cc14-c1db6e1517f2"
      },
      "execution_count": null,
      "outputs": [
        {
          "output_type": "stream",
          "name": "stdout",
          "text": [
            "After removing 'plane': {'doll', 'plane', 'car'}\n"
          ]
        }
      ]
    },
    {
      "cell_type": "code",
      "source": [
        "# Checking membership in a set\n",
        "print(\"Is 'car' in the set?\", 'car' in toys)\n",
        "print(\"Is 'ball' in the set?\", 'ball' in toys)"
      ],
      "metadata": {
        "colab": {
          "base_uri": "https://localhost:8080/"
        },
        "id": "TMmaBwazbOUy",
        "outputId": "a9c515f5-f6d5-4aae-d9e7-6ec9df46f5d8"
      },
      "execution_count": null,
      "outputs": [
        {
          "output_type": "stream",
          "name": "stdout",
          "text": [
            "Is 'car' in the set? True\n",
            "Is 'ball' in the set? False\n"
          ]
        }
      ]
    },
    {
      "cell_type": "code",
      "source": [
        "# Set operations: union, intersection, difference\n",
        "other_toys = {'bat', 'train', 'doll'}\n",
        "print(\"Union:\", toys.union(other_toys))\n",
        "print(\"Intersection:\", toys.intersection(other_toys))\n",
        "print(\"Difference:\", toys.difference(other_toys))"
      ],
      "metadata": {
        "colab": {
          "base_uri": "https://localhost:8080/"
        },
        "id": "Qoy6kva5bTI9",
        "outputId": "7dc3dd48-1a86-4d46-9718-04ba121dca5d"
      },
      "execution_count": null,
      "outputs": [
        {
          "output_type": "stream",
          "name": "stdout",
          "text": [
            "Union: {'doll', 'train', 'car', 'bat', 'plane'}\n",
            "Intersection: {'doll'}\n",
            "Difference: {'plane', 'car'}\n"
          ]
        }
      ]
    },
    {
      "cell_type": "code",
      "source": [
        "# Length of a set\n",
        "print(\"Length of the set:\", len(toys))"
      ],
      "metadata": {
        "colab": {
          "base_uri": "https://localhost:8080/"
        },
        "id": "hRXSpcdOblu1",
        "outputId": "cca1cef7-0215-4b41-8e25-cb320383fb01"
      },
      "execution_count": null,
      "outputs": [
        {
          "output_type": "stream",
          "name": "stdout",
          "text": [
            "Length of the set: 3\n"
          ]
        }
      ]
    },
    {
      "cell_type": "code",
      "source": [
        "# Clearing a set\n",
        "toys.clear()\n",
        "print(\"Cleared set:\", toys)"
      ],
      "metadata": {
        "colab": {
          "base_uri": "https://localhost:8080/"
        },
        "id": "M5sMV73Obp26",
        "outputId": "e634e936-673d-4245-f183-4611c0c40387"
      },
      "execution_count": null,
      "outputs": [
        {
          "output_type": "stream",
          "name": "stdout",
          "text": [
            "Cleared set: set()\n"
          ]
        }
      ]
    },
    {
      "cell_type": "markdown",
      "source": [
        "**Python Dictionary**"
      ],
      "metadata": {
        "id": "sF6nWDCxcIxx"
      }
    },
    {
      "cell_type": "code",
      "source": [
        "# Creating an empty dictionary\n",
        "my_dict = {}\n",
        "\n",
        "# Adding key-value pairs to the dictionary\n",
        "my_dict['name'] = 'John'\n",
        "my_dict['age'] = 30\n",
        "my_dict['gender'] = 'male'"
      ],
      "metadata": {
        "id": "LlPMPQcOcIcS"
      },
      "execution_count": null,
      "outputs": []
    },
    {
      "cell_type": "code",
      "source": [
        "# Printing the dictionary\n",
        "print(\"Dictionary:\", my_dict)"
      ],
      "metadata": {
        "colab": {
          "base_uri": "https://localhost:8080/"
        },
        "id": "ybljrLfpcO6d",
        "outputId": "48ef7514-e4be-49e9-c4bf-18535699ff8d"
      },
      "execution_count": null,
      "outputs": [
        {
          "output_type": "stream",
          "name": "stdout",
          "text": [
            "Dictionary: {'name': 'John', 'age': 30, 'gender': 'male'}\n"
          ]
        }
      ]
    },
    {
      "cell_type": "code",
      "source": [
        "# Accessing value using key\n",
        "print(\"Value for key 'name':\", my_dict['name'])"
      ],
      "metadata": {
        "colab": {
          "base_uri": "https://localhost:8080/"
        },
        "id": "DBkbPHstcTjL",
        "outputId": "2e7aa4e1-1389-4ac9-d431-49f1d561c9b8"
      },
      "execution_count": null,
      "outputs": [
        {
          "output_type": "stream",
          "name": "stdout",
          "text": [
            "Value for key 'name': John\n"
          ]
        }
      ]
    },
    {
      "cell_type": "code",
      "source": [
        "# Checking if a key exists\n",
        "if 'age' in my_dict:\n",
        "    print(\"'age' is present in the dictionary.\")\n",
        "else:\n",
        "    print(\"'age' is not present in the dictionary.\")"
      ],
      "metadata": {
        "colab": {
          "base_uri": "https://localhost:8080/"
        },
        "id": "K0UTKor0cWSC",
        "outputId": "26671781-c0a6-4093-c6e5-29ad026030fb"
      },
      "execution_count": null,
      "outputs": [
        {
          "output_type": "stream",
          "name": "stdout",
          "text": [
            "'age' is present in the dictionary.\n"
          ]
        }
      ]
    },
    {
      "cell_type": "code",
      "source": [
        "# Removing a key-value pair\n",
        "removed_value = my_dict.pop('age')\n",
        "print(\"Removed value:\", removed_value)\n",
        "print(\"Dictionary after removing 'age':\", my_dict)"
      ],
      "metadata": {
        "colab": {
          "base_uri": "https://localhost:8080/"
        },
        "id": "Vfz-92oCcZBx",
        "outputId": "831b7d49-d475-4297-a0d7-0c1d5cd310a9"
      },
      "execution_count": null,
      "outputs": [
        {
          "output_type": "stream",
          "name": "stdout",
          "text": [
            "Removed value: 30\n",
            "Dictionary after removing 'age': {'name': 'John', 'gender': 'male'}\n"
          ]
        }
      ]
    },
    {
      "cell_type": "code",
      "source": [
        "# Iterating through keys and values\n",
        "print(\"Keys:\")\n",
        "for key in my_dict:\n",
        "    print(key)"
      ],
      "metadata": {
        "colab": {
          "base_uri": "https://localhost:8080/"
        },
        "id": "c8JxjB2oceM9",
        "outputId": "497d7df5-39ef-4485-9b95-931bfe885e7f"
      },
      "execution_count": null,
      "outputs": [
        {
          "output_type": "stream",
          "name": "stdout",
          "text": [
            "Keys:\n",
            "name\n",
            "gender\n"
          ]
        }
      ]
    },
    {
      "cell_type": "code",
      "source": [
        "print(\"Values:\")\n",
        "for value in my_dict.values():\n",
        "    print(value)"
      ],
      "metadata": {
        "colab": {
          "base_uri": "https://localhost:8080/"
        },
        "id": "_pCDb_5-ciJZ",
        "outputId": "bc937f56-2aee-420e-b239-cd6b69385e8b"
      },
      "execution_count": null,
      "outputs": [
        {
          "output_type": "stream",
          "name": "stdout",
          "text": [
            "Values:\n",
            "John\n",
            "male\n"
          ]
        }
      ]
    },
    {
      "cell_type": "code",
      "source": [
        "# Checking the length of the dictionary\n",
        "print(\"Length of dictionary:\", len(my_dict))"
      ],
      "metadata": {
        "colab": {
          "base_uri": "https://localhost:8080/"
        },
        "id": "uEcBI7FKckiR",
        "outputId": "91efc7e1-22d5-4686-f6c4-b6db0797452d"
      },
      "execution_count": null,
      "outputs": [
        {
          "output_type": "stream",
          "name": "stdout",
          "text": [
            "Length of dictionary: 2\n"
          ]
        }
      ]
    },
    {
      "cell_type": "code",
      "source": [
        "# Clearing the dictionary\n",
        "my_dict.clear()\n",
        "print(\"Dictionary after clearing:\", my_dict)"
      ],
      "metadata": {
        "colab": {
          "base_uri": "https://localhost:8080/"
        },
        "id": "CSnDS1eOcl29",
        "outputId": "df4ef025-5ce9-43e2-fbfd-ff187dbd1a28"
      },
      "execution_count": null,
      "outputs": [
        {
          "output_type": "stream",
          "name": "stdout",
          "text": [
            "Dictionary after clearing: {}\n"
          ]
        }
      ]
    }
  ]
}